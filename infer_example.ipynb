{
 "cells": [
  {
   "cell_type": "code",
   "execution_count": 1,
   "metadata": {},
   "outputs": [
    {
     "name": "stderr",
     "output_type": "stream",
     "text": [
      "c:\\Users\\acer\\miniconda3\\envs\\env\\Lib\\site-packages\\tqdm\\auto.py:21: TqdmWarning: IProgress not found. Please update jupyter and ipywidgets. See https://ipywidgets.readthedocs.io/en/stable/user_install.html\n",
      "  from .autonotebook import tqdm as notebook_tqdm\n"
     ]
    },
    {
     "ename": "ModuleNotFoundError",
     "evalue": "No module named 'datasets'",
     "output_type": "error",
     "traceback": [
      "\u001b[1;31m---------------------------------------------------------------------------\u001b[0m",
      "\u001b[1;31mModuleNotFoundError\u001b[0m                       Traceback (most recent call last)",
      "Cell \u001b[1;32mIn[1], line 19\u001b[0m\n\u001b[0;32m     17\u001b[0m \u001b[38;5;28;01mfrom\u001b[39;00m \u001b[38;5;21;01mtqdm\u001b[39;00m \u001b[38;5;28;01mimport\u001b[39;00m tqdm\n\u001b[0;32m     18\u001b[0m \u001b[38;5;28;01mfrom\u001b[39;00m \u001b[38;5;21;01mtorch\u001b[39;00m\u001b[38;5;21;01m.\u001b[39;00m\u001b[38;5;21;01mutils\u001b[39;00m\u001b[38;5;21;01m.\u001b[39;00m\u001b[38;5;21;01mdata\u001b[39;00m \u001b[38;5;28;01mimport\u001b[39;00m random_split\n\u001b[1;32m---> 19\u001b[0m \u001b[38;5;28;01mimport\u001b[39;00m \u001b[38;5;21;01mdatasets\u001b[39;00m\n",
      "\u001b[1;31mModuleNotFoundError\u001b[0m: No module named 'datasets'"
     ]
    }
   ],
   "source": [
    "\n",
    "import transformers\n",
    "import pandas as pd\n",
    "import numpy as np\n",
    "import matplotlib.pyplot as plt\n",
    "import ast\n",
    "import os\n",
    "import re\n",
    "\n",
    "import torch\n",
    "from torch import nn\n",
    "from torch.utils.data import Dataset, DataLoader, RandomSampler, SequentialSampler\n",
    "from transformers import AutoTokenizer, AutoModelForSequenceClassification\n",
    "from sklearn.model_selection import train_test_split\n",
    "\n",
    "\n",
    "from sklearn import metrics\n",
    "from tqdm import tqdm\n",
    "from torch.utils.data import random_split\n",
    "import datasets\n",
    "\n"
   ]
  },
  {
   "cell_type": "code",
   "execution_count": 2,
   "metadata": {},
   "outputs": [
    {
     "data": {
      "text/plain": [
       "'cuda'"
      ]
     },
     "execution_count": 2,
     "metadata": {},
     "output_type": "execute_result"
    }
   ],
   "source": [
    "from torch import cuda\n",
    "device = 'cuda' if cuda.is_available() else 'cpu'\n",
    "device"
   ]
  },
  {
   "cell_type": "code",
   "execution_count": 3,
   "metadata": {},
   "outputs": [],
   "source": [
    "device = 'cuda:1'"
   ]
  },
  {
   "cell_type": "code",
   "execution_count": 4,
   "metadata": {},
   "outputs": [],
   "source": [
    "import os\n",
    "os.environ[\"TOKENIZERS_PARALLELISM\"] = \"false\""
   ]
  },
  {
   "cell_type": "markdown",
   "metadata": {},
   "source": [
    "\n",
    "# **Importing and Pre-Processing the domain data**"
   ]
  },
  {
   "cell_type": "code",
   "execution_count": 5,
   "metadata": {},
   "outputs": [],
   "source": [
    "all_data = pd.read_csv('origin\\\\all_dedup.csv')"
   ]
  },
  {
   "cell_type": "code",
   "execution_count": 6,
   "metadata": {},
   "outputs": [
    {
     "data": {
      "text/html": [
       "<div>\n",
       "<style scoped>\n",
       "    .dataframe tbody tr th:only-of-type {\n",
       "        vertical-align: middle;\n",
       "    }\n",
       "\n",
       "    .dataframe tbody tr th {\n",
       "        vertical-align: top;\n",
       "    }\n",
       "\n",
       "    .dataframe thead th {\n",
       "        text-align: right;\n",
       "    }\n",
       "</style>\n",
       "<table border=\"1\" class=\"dataframe\">\n",
       "  <thead>\n",
       "    <tr style=\"text-align: right;\">\n",
       "      <th></th>\n",
       "      <th>id</th>\n",
       "      <th>text</th>\n",
       "      <th>label</th>\n",
       "      <th>dataset_type</th>\n",
       "    </tr>\n",
       "  </thead>\n",
       "  <tbody>\n",
       "    <tr>\n",
       "      <th>0</th>\n",
       "      <td>0</td>\n",
       "      <td>Bấp bênh vl thế</td>\n",
       "      <td>1</td>\n",
       "      <td>train</td>\n",
       "    </tr>\n",
       "    <tr>\n",
       "      <th>1</th>\n",
       "      <td>1</td>\n",
       "      <td>Chắc cũng biết ko tồn tại đc bao lâu nữa nên c...</td>\n",
       "      <td>1</td>\n",
       "      <td>train</td>\n",
       "    </tr>\n",
       "    <tr>\n",
       "      <th>2</th>\n",
       "      <td>2</td>\n",
       "      <td>Thấy chán ad page này kiến thức thì nông cản c...</td>\n",
       "      <td>1</td>\n",
       "      <td>train</td>\n",
       "    </tr>\n",
       "    <tr>\n",
       "      <th>3</th>\n",
       "      <td>3</td>\n",
       "      <td>Giang Giang Đỗ Thị Ngọc Hà trend mới kìa kìa</td>\n",
       "      <td>0</td>\n",
       "      <td>train</td>\n",
       "    </tr>\n",
       "    <tr>\n",
       "      <th>4</th>\n",
       "      <td>4</td>\n",
       "      <td>đcm 😒 sau có con cho hút cỏ chữa bệnh chứ đéo ...</td>\n",
       "      <td>1</td>\n",
       "      <td>train</td>\n",
       "    </tr>\n",
       "    <tr>\n",
       "      <th>...</th>\n",
       "      <td>...</td>\n",
       "      <td>...</td>\n",
       "      <td>...</td>\n",
       "      <td>...</td>\n",
       "    </tr>\n",
       "    <tr>\n",
       "      <th>46002</th>\n",
       "      <td>46002</td>\n",
       "      <td>trong trường hợp này, theo ls. khanh, bà hằng...</td>\n",
       "      <td>1</td>\n",
       "      <td>test</td>\n",
       "    </tr>\n",
       "    <tr>\n",
       "      <th>46003</th>\n",
       "      <td>46003</td>\n",
       "      <td>bà cũng không ít lần chỉ trích nặng nề những ...</td>\n",
       "      <td>0</td>\n",
       "      <td>test</td>\n",
       "    </tr>\n",
       "    <tr>\n",
       "      <th>46004</th>\n",
       "      <td>46004</td>\n",
       "      <td>“bà nguyễn phương hằng có nhiều biểu hiện đã ...</td>\n",
       "      <td>0</td>\n",
       "      <td>test</td>\n",
       "    </tr>\n",
       "    <tr>\n",
       "      <th>46005</th>\n",
       "      <td>46005</td>\n",
       "      <td>vũ đức khanh nói. bà nguyễn phương hằng bắt đ...</td>\n",
       "      <td>0</td>\n",
       "      <td>test</td>\n",
       "    </tr>\n",
       "    <tr>\n",
       "      <th>46006</th>\n",
       "      <td>46006</td>\n",
       "      <td>.. trước khi bị bắt, bà nguyễn phương hằng đã ...</td>\n",
       "      <td>0</td>\n",
       "      <td>test</td>\n",
       "    </tr>\n",
       "  </tbody>\n",
       "</table>\n",
       "<p>46007 rows × 4 columns</p>\n",
       "</div>"
      ],
      "text/plain": [
       "          id                                               text  label  \\\n",
       "0          0                                    Bấp bênh vl thế      1   \n",
       "1          1  Chắc cũng biết ko tồn tại đc bao lâu nữa nên c...      1   \n",
       "2          2  Thấy chán ad page này kiến thức thì nông cản c...      1   \n",
       "3          3       Giang Giang Đỗ Thị Ngọc Hà trend mới kìa kìa      0   \n",
       "4          4  đcm 😒 sau có con cho hút cỏ chữa bệnh chứ đéo ...      1   \n",
       "...      ...                                                ...    ...   \n",
       "46002  46002   trong trường hợp này, theo ls. khanh, bà hằng...      1   \n",
       "46003  46003   bà cũng không ít lần chỉ trích nặng nề những ...      0   \n",
       "46004  46004   “bà nguyễn phương hằng có nhiều biểu hiện đã ...      0   \n",
       "46005  46005   vũ đức khanh nói. bà nguyễn phương hằng bắt đ...      0   \n",
       "46006  46006  .. trước khi bị bắt, bà nguyễn phương hằng đã ...      0   \n",
       "\n",
       "      dataset_type  \n",
       "0            train  \n",
       "1            train  \n",
       "2            train  \n",
       "3            train  \n",
       "4            train  \n",
       "...            ...  \n",
       "46002         test  \n",
       "46003         test  \n",
       "46004         test  \n",
       "46005         test  \n",
       "46006         test  \n",
       "\n",
       "[46007 rows x 4 columns]"
      ]
     },
     "execution_count": 6,
     "metadata": {},
     "output_type": "execute_result"
    }
   ],
   "source": [
    "all_data"
   ]
  },
  {
   "cell_type": "code",
   "execution_count": null,
   "metadata": {},
   "outputs": [],
   "source": []
  },
  {
   "cell_type": "code",
   "execution_count": 53,
   "metadata": {},
   "outputs": [],
   "source": [
    "data.rename(columns={'comments':'text'}, inplace=True)"
   ]
  },
  {
   "cell_type": "code",
   "execution_count": 54,
   "metadata": {},
   "outputs": [
    {
     "data": {
      "text/html": [
       "<div>\n",
       "<style scoped>\n",
       "    .dataframe tbody tr th:only-of-type {\n",
       "        vertical-align: middle;\n",
       "    }\n",
       "\n",
       "    .dataframe tbody tr th {\n",
       "        vertical-align: top;\n",
       "    }\n",
       "\n",
       "    .dataframe thead th {\n",
       "        text-align: right;\n",
       "    }\n",
       "</style>\n",
       "<table border=\"1\" class=\"dataframe\">\n",
       "  <thead>\n",
       "    <tr style=\"text-align: right;\">\n",
       "      <th></th>\n",
       "      <th>index</th>\n",
       "      <th>text</th>\n",
       "      <th>label</th>\n",
       "    </tr>\n",
       "  </thead>\n",
       "  <tbody>\n",
       "    <tr>\n",
       "      <th>0</th>\n",
       "      <td>0</td>\n",
       "      <td>Giờ biết giải thích sao với lão tôn đây 😅</td>\n",
       "      <td>1</td>\n",
       "    </tr>\n",
       "    <tr>\n",
       "      <th>1</th>\n",
       "      <td>1</td>\n",
       "      <td>Nguyễn Đức Duẩn Thanh niên nhà Hà Nội thích N ...</td>\n",
       "      <td>0</td>\n",
       "    </tr>\n",
       "    <tr>\n",
       "      <th>2</th>\n",
       "      <td>2</td>\n",
       "      <td>Khỉ bố đang rất đau khổ</td>\n",
       "      <td>0</td>\n",
       "    </tr>\n",
       "    <tr>\n",
       "      <th>3</th>\n",
       "      <td>3</td>\n",
       "      <td>Hàng xóm bên cạnh ngta cũng phận nữ nhi mà các...</td>\n",
       "      <td>1</td>\n",
       "    </tr>\n",
       "    <tr>\n",
       "      <th>4</th>\n",
       "      <td>4</td>\n",
       "      <td>Sinh nở đã vất vả lắm rồi, đừng hỏi bố đứa trẻ...</td>\n",
       "      <td>1</td>\n",
       "    </tr>\n",
       "    <tr>\n",
       "      <th>...</th>\n",
       "      <td>...</td>\n",
       "      <td>...</td>\n",
       "      <td>...</td>\n",
       "    </tr>\n",
       "    <tr>\n",
       "      <th>6693</th>\n",
       "      <td>6693</td>\n",
       "      <td>Khổ nhưng vẫn đc độc lập tự do,được đón lễ lớn...</td>\n",
       "      <td>0</td>\n",
       "    </tr>\n",
       "    <tr>\n",
       "      <th>6694</th>\n",
       "      <td>6694</td>\n",
       "      <td>30/4 3 que đu càng tụt quần bay trong gió😂</td>\n",
       "      <td>0</td>\n",
       "    </tr>\n",
       "    <tr>\n",
       "      <th>6695</th>\n",
       "      <td>6695</td>\n",
       "      <td>ba que khát nước</td>\n",
       "      <td>0</td>\n",
       "    </tr>\n",
       "    <tr>\n",
       "      <th>6696</th>\n",
       "      <td>6696</td>\n",
       "      <td>Hoan hô Việt Tân đưa tin rất hay và thời sự</td>\n",
       "      <td>0</td>\n",
       "    </tr>\n",
       "    <tr>\n",
       "      <th>6697</th>\n",
       "      <td>6697</td>\n",
       "      <td>Mời các bạn nghe tin chiến thắng chúng tôi mới...</td>\n",
       "      <td>0</td>\n",
       "    </tr>\n",
       "  </tbody>\n",
       "</table>\n",
       "<p>6698 rows × 3 columns</p>\n",
       "</div>"
      ],
      "text/plain": [
       "      index                                               text  label\n",
       "0         0          Giờ biết giải thích sao với lão tôn đây 😅      1\n",
       "1         1  Nguyễn Đức Duẩn Thanh niên nhà Hà Nội thích N ...      0\n",
       "2         2                            Khỉ bố đang rất đau khổ      0\n",
       "3         3  Hàng xóm bên cạnh ngta cũng phận nữ nhi mà các...      1\n",
       "4         4  Sinh nở đã vất vả lắm rồi, đừng hỏi bố đứa trẻ...      1\n",
       "...     ...                                                ...    ...\n",
       "6693   6693  Khổ nhưng vẫn đc độc lập tự do,được đón lễ lớn...      0\n",
       "6694   6694         30/4 3 que đu càng tụt quần bay trong gió😂      0\n",
       "6695   6695                                   ba que khát nước      0\n",
       "6696   6696        Hoan hô Việt Tân đưa tin rất hay và thời sự      0\n",
       "6697   6697  Mời các bạn nghe tin chiến thắng chúng tôi mới...      0\n",
       "\n",
       "[6698 rows x 3 columns]"
      ]
     },
     "execution_count": 54,
     "metadata": {},
     "output_type": "execute_result"
    }
   ],
   "source": [
    "data"
   ]
  },
  {
   "cell_type": "markdown",
   "metadata": {},
   "source": [
    "# **Infer**"
   ]
  },
  {
   "cell_type": "code",
   "execution_count": 55,
   "metadata": {},
   "outputs": [],
   "source": [
    "from infer import Model\n"
   ]
  },
  {
   "cell_type": "code",
   "execution_count": 56,
   "metadata": {},
   "outputs": [],
   "source": [
    "device = 'cuda:1'\n",
    "model = Model(weight= 'ckpt/model-fine-tune-final.pth', device= device)"
   ]
  },
  {
   "cell_type": "code",
   "execution_count": 57,
   "metadata": {},
   "outputs": [],
   "source": [
    "toxicity = model.predict_dataframe(data)"
   ]
  },
  {
   "cell_type": "code",
   "execution_count": 58,
   "metadata": {},
   "outputs": [
    {
     "data": {
      "text/plain": [
       "array([0.87674659, 0.89244539, 0.01551677, ..., 0.86876005, 0.00147626,\n",
       "       0.00403372])"
      ]
     },
     "execution_count": 58,
     "metadata": {},
     "output_type": "execute_result"
    }
   ],
   "source": [
    "toxicity"
   ]
  },
  {
   "cell_type": "code",
   "execution_count": 59,
   "metadata": {},
   "outputs": [
    {
     "data": {
      "text/plain": [
       "(6698,)"
      ]
     },
     "execution_count": 59,
     "metadata": {},
     "output_type": "execute_result"
    }
   ],
   "source": [
    "toxicity.shape"
   ]
  },
  {
   "cell_type": "code",
   "execution_count": 60,
   "metadata": {},
   "outputs": [],
   "source": [
    "# toxicity = (toxicity >= 0.5).astype(int)"
   ]
  },
  {
   "cell_type": "code",
   "execution_count": 61,
   "metadata": {},
   "outputs": [
    {
     "data": {
      "text/plain": [
       "array([0.87674659, 0.89244539, 0.01551677, ..., 0.86876005, 0.00147626,\n",
       "       0.00403372])"
      ]
     },
     "execution_count": 61,
     "metadata": {},
     "output_type": "execute_result"
    }
   ],
   "source": [
    "toxicity"
   ]
  },
  {
   "cell_type": "code",
   "execution_count": 62,
   "metadata": {},
   "outputs": [],
   "source": [
    "predict_label = toxicity.tolist()\n"
   ]
  },
  {
   "cell_type": "code",
   "execution_count": 63,
   "metadata": {},
   "outputs": [],
   "source": [
    "data['predict_label'] = predict_label"
   ]
  },
  {
   "cell_type": "code",
   "execution_count": 64,
   "metadata": {},
   "outputs": [
    {
     "data": {
      "text/html": [
       "<div>\n",
       "<style scoped>\n",
       "    .dataframe tbody tr th:only-of-type {\n",
       "        vertical-align: middle;\n",
       "    }\n",
       "\n",
       "    .dataframe tbody tr th {\n",
       "        vertical-align: top;\n",
       "    }\n",
       "\n",
       "    .dataframe thead th {\n",
       "        text-align: right;\n",
       "    }\n",
       "</style>\n",
       "<table border=\"1\" class=\"dataframe\">\n",
       "  <thead>\n",
       "    <tr style=\"text-align: right;\">\n",
       "      <th></th>\n",
       "      <th>index</th>\n",
       "      <th>text</th>\n",
       "      <th>label</th>\n",
       "      <th>predict_label</th>\n",
       "    </tr>\n",
       "  </thead>\n",
       "  <tbody>\n",
       "    <tr>\n",
       "      <th>0</th>\n",
       "      <td>0</td>\n",
       "      <td>Giờ biết giải thích sao với lão tôn đây 😅</td>\n",
       "      <td>1</td>\n",
       "      <td>0.876747</td>\n",
       "    </tr>\n",
       "    <tr>\n",
       "      <th>1</th>\n",
       "      <td>1</td>\n",
       "      <td>Nguyễn Đức Duẩn Thanh niên nhà Hà Nội thích N ...</td>\n",
       "      <td>0</td>\n",
       "      <td>0.892445</td>\n",
       "    </tr>\n",
       "    <tr>\n",
       "      <th>2</th>\n",
       "      <td>2</td>\n",
       "      <td>Khỉ bố đang rất đau khổ</td>\n",
       "      <td>0</td>\n",
       "      <td>0.015517</td>\n",
       "    </tr>\n",
       "    <tr>\n",
       "      <th>3</th>\n",
       "      <td>3</td>\n",
       "      <td>Hàng xóm bên cạnh ngta cũng phận nữ nhi mà các...</td>\n",
       "      <td>1</td>\n",
       "      <td>0.692576</td>\n",
       "    </tr>\n",
       "    <tr>\n",
       "      <th>4</th>\n",
       "      <td>4</td>\n",
       "      <td>Sinh nở đã vất vả lắm rồi, đừng hỏi bố đứa trẻ...</td>\n",
       "      <td>1</td>\n",
       "      <td>0.154436</td>\n",
       "    </tr>\n",
       "    <tr>\n",
       "      <th>...</th>\n",
       "      <td>...</td>\n",
       "      <td>...</td>\n",
       "      <td>...</td>\n",
       "      <td>...</td>\n",
       "    </tr>\n",
       "    <tr>\n",
       "      <th>6693</th>\n",
       "      <td>6693</td>\n",
       "      <td>Khổ nhưng vẫn đc độc lập tự do,được đón lễ lớn...</td>\n",
       "      <td>0</td>\n",
       "      <td>0.725702</td>\n",
       "    </tr>\n",
       "    <tr>\n",
       "      <th>6694</th>\n",
       "      <td>6694</td>\n",
       "      <td>30/4 3 que đu càng tụt quần bay trong gió😂</td>\n",
       "      <td>0</td>\n",
       "      <td>0.359476</td>\n",
       "    </tr>\n",
       "    <tr>\n",
       "      <th>6695</th>\n",
       "      <td>6695</td>\n",
       "      <td>ba que khát nước</td>\n",
       "      <td>0</td>\n",
       "      <td>0.868760</td>\n",
       "    </tr>\n",
       "    <tr>\n",
       "      <th>6696</th>\n",
       "      <td>6696</td>\n",
       "      <td>Hoan hô Việt Tân đưa tin rất hay và thời sự</td>\n",
       "      <td>0</td>\n",
       "      <td>0.001476</td>\n",
       "    </tr>\n",
       "    <tr>\n",
       "      <th>6697</th>\n",
       "      <td>6697</td>\n",
       "      <td>Mời các bạn nghe tin chiến thắng chúng tôi mới...</td>\n",
       "      <td>0</td>\n",
       "      <td>0.004034</td>\n",
       "    </tr>\n",
       "  </tbody>\n",
       "</table>\n",
       "<p>6698 rows × 4 columns</p>\n",
       "</div>"
      ],
      "text/plain": [
       "      index                                               text  label  \\\n",
       "0         0          Giờ biết giải thích sao với lão tôn đây 😅      1   \n",
       "1         1  Nguyễn Đức Duẩn Thanh niên nhà Hà Nội thích N ...      0   \n",
       "2         2                            Khỉ bố đang rất đau khổ      0   \n",
       "3         3  Hàng xóm bên cạnh ngta cũng phận nữ nhi mà các...      1   \n",
       "4         4  Sinh nở đã vất vả lắm rồi, đừng hỏi bố đứa trẻ...      1   \n",
       "...     ...                                                ...    ...   \n",
       "6693   6693  Khổ nhưng vẫn đc độc lập tự do,được đón lễ lớn...      0   \n",
       "6694   6694         30/4 3 que đu càng tụt quần bay trong gió😂      0   \n",
       "6695   6695                                   ba que khát nước      0   \n",
       "6696   6696        Hoan hô Việt Tân đưa tin rất hay và thời sự      0   \n",
       "6697   6697  Mời các bạn nghe tin chiến thắng chúng tôi mới...      0   \n",
       "\n",
       "      predict_label  \n",
       "0          0.876747  \n",
       "1          0.892445  \n",
       "2          0.015517  \n",
       "3          0.692576  \n",
       "4          0.154436  \n",
       "...             ...  \n",
       "6693       0.725702  \n",
       "6694       0.359476  \n",
       "6695       0.868760  \n",
       "6696       0.001476  \n",
       "6697       0.004034  \n",
       "\n",
       "[6698 rows x 4 columns]"
      ]
     },
     "execution_count": 64,
     "metadata": {},
     "output_type": "execute_result"
    }
   ],
   "source": [
    "data"
   ]
  },
  {
   "cell_type": "code",
   "execution_count": 65,
   "metadata": {},
   "outputs": [],
   "source": [
    "data.to_csv('expand_dataset/model_predict.csv', index=False)"
   ]
  },
  {
   "cell_type": "code",
   "execution_count": 33,
   "metadata": {},
   "outputs": [],
   "source": [
    "similar_label = data.loc[data['label'] == data['predict_label']]"
   ]
  },
  {
   "cell_type": "code",
   "execution_count": 44,
   "metadata": {},
   "outputs": [],
   "source": [
    "mislabel = data.loc[data['label'] != data['predict_label']]\n",
    "mislabel.reset_index(drop=True, inplace=True)"
   ]
  },
  {
   "cell_type": "code",
   "execution_count": 39,
   "metadata": {},
   "outputs": [],
   "source": [
    "similar_label.reset_index(drop=True, inplace=True)"
   ]
  },
  {
   "cell_type": "code",
   "execution_count": 40,
   "metadata": {},
   "outputs": [
    {
     "data": {
      "text/plain": [
       "4079"
      ]
     },
     "execution_count": 40,
     "metadata": {},
     "output_type": "execute_result"
    }
   ],
   "source": [
    "len(similar_label)"
   ]
  },
  {
   "cell_type": "code",
   "execution_count": 41,
   "metadata": {},
   "outputs": [],
   "source": [
    "def view_data(df, start, view_range):\n",
    "    for i in range(start, start+ view_range):\n",
    "        print(f\"Text: {df['text'][i]}\")\n",
    "        print(f\"Label: {df['label'][i]}\")\n",
    "        print(f\"Predict Label: {df['predict_label'][i]}\")\n",
    "        print('-------------------------------------')\n",
    "        print(\"\\n\")"
   ]
  },
  {
   "cell_type": "code",
   "execution_count": 46,
   "metadata": {},
   "outputs": [
    {
     "name": "stdout",
     "output_type": "stream",
     "text": [
      "Text: Ăn vả ý :))\n",
      "Label: 1\n",
      "Predict Label: 0\n",
      "-------------------------------------\n",
      "\n",
      "\n",
      "Text: Mấy món này nó lại đơn giản luôn :)))\n",
      "Label: 1\n",
      "Predict Label: 0\n",
      "-------------------------------------\n",
      "\n",
      "\n",
      "Text: Nó cho ăn cái đập bạn ạ😁😁😁\n",
      "Label: 1\n",
      "Predict Label: 0\n",
      "-------------------------------------\n",
      "\n",
      "\n",
      "Text: Chủ yếu toàn thịt không. Không mê lắm 😂😂😂😂😂\n",
      "Label: 1\n",
      "Predict Label: 0\n",
      "-------------------------------------\n",
      "\n",
      "\n",
      "Text: Do nhà mình ăn ít thịt hay do nhà ng ta ăn nhiều thịt nhỉ\n",
      "Label: 1\n",
      "Predict Label: 0\n",
      "-------------------------------------\n",
      "\n",
      "\n",
      "Text: Quyền thực đơn đây, đừng hỏi e muốn ăn gì nữa nhé :))\n",
      "Label: 1\n",
      "Predict Label: 0\n",
      "-------------------------------------\n",
      "\n",
      "\n",
      "Text: Ăn quả mướp đắng à\n",
      "Label: 1\n",
      "Predict Label: 0\n",
      "-------------------------------------\n",
      "\n",
      "\n",
      "Text: Lê Tùng lưu vào nấu cho vk ăn nha 😂\n",
      "Label: 0\n",
      "Predict Label: 1\n",
      "-------------------------------------\n",
      "\n",
      "\n",
      "Text: Đoàn Thế Anh\n",
      "Label: 1\n",
      "Predict Label: 0\n",
      "-------------------------------------\n",
      "\n",
      "\n",
      "Text: Dương Bích ước\n",
      "Label: 1\n",
      "Predict Label: 0\n",
      "-------------------------------------\n",
      "\n",
      "\n",
      "Text: Trần Quốc Huy chắc ai đó sẽ lưu về để mình ở cữ ko còn cu đơn 🤣\n",
      "Label: 0\n",
      "Predict Label: 1\n",
      "-------------------------------------\n",
      "\n",
      "\n",
      "Text: Thủ đô mà vắng thì còn gọi gì là thủ đô :))\n",
      "Label: 1\n",
      "Predict Label: 0\n",
      "-------------------------------------\n",
      "\n",
      "\n",
      "Text: Hanoi xịn của t 😂😂😂\n",
      "Label: 1\n",
      "Predict Label: 0\n",
      "-------------------------------------\n",
      "\n",
      "\n",
      "Text: Ông nguyễn trãi đâu ngờ tên ông lại\n",
      "Label: 1\n",
      "Predict Label: 0\n",
      "-------------------------------------\n",
      "\n",
      "\n",
      "Text: Trục đường Xuân Thủy đến nghĩa trang Mai Dịch tắc chả kém\n",
      "Label: 1\n",
      "Predict Label: 0\n",
      "-------------------------------------\n",
      "\n",
      "\n",
      "Text: Sao tao cứ thấy đường Nguyễn Trãi to đi sướng mà đỡ tắc hơn mấy đường khác rất nhiều nhỉ\n",
      "Label: 0\n",
      "Predict Label: 1\n",
      "-------------------------------------\n",
      "\n",
      "\n",
      "Text: Sáng 7-8h không có chỗ mà điền lunnnn :))))\n",
      "Label: 1\n",
      "Predict Label: 0\n",
      "-------------------------------------\n",
      "\n",
      "\n",
      "Text: Nhìn vào mới nghĩ k hiểu trc mình băng qua đường kiểu gì\n",
      "Label: 1\n",
      "Predict Label: 0\n",
      "-------------------------------------\n",
      "\n",
      "\n",
      "Text: Nghỉ đẻ 2 tháng nhớ cảnh điền vào chỗ trống quá 🙄\n",
      "Label: 1\n",
      "Predict Label: 0\n",
      "-------------------------------------\n",
      "\n",
      "\n",
      "Text: Phân làn như không xog phải bỏ phân cách cứng.\n",
      "Label: 0\n",
      "Predict Label: 1\n",
      "-------------------------------------\n",
      "\n",
      "\n"
     ]
    }
   ],
   "source": [
    "view_data(mislabel, 500, 20)"
   ]
  },
  {
   "cell_type": "code",
   "execution_count": null,
   "metadata": {},
   "outputs": [],
   "source": []
  }
 ],
 "metadata": {
  "kernelspec": {
   "display_name": "hieu-env",
   "language": "python",
   "name": "python3"
  },
  "language_info": {
   "codemirror_mode": {
    "name": "ipython",
    "version": 3
   },
   "file_extension": ".py",
   "mimetype": "text/x-python",
   "name": "python",
   "nbconvert_exporter": "python",
   "pygments_lexer": "ipython3",
   "version": "3.12.2"
  }
 },
 "nbformat": 4,
 "nbformat_minor": 2
}
