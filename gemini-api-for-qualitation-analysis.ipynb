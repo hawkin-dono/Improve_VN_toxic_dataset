{
 "cells": [
  {
   "cell_type": "code",
   "execution_count": 1,
   "metadata": {},
   "outputs": [],
   "source": [
    "import os\n",
    "import pandas as pd"
   ]
  },
  {
   "cell_type": "markdown",
   "metadata": {},
   "source": [
    "# **Load data**"
   ]
  },
  {
   "cell_type": "code",
   "execution_count": 4,
   "metadata": {},
   "outputs": [],
   "source": [
    "df = pd.read_csv('Iterations\\\\Iter1\\\\1.1\\\\mislabel.csv')"
   ]
  },
  {
   "cell_type": "code",
   "execution_count": 5,
   "metadata": {},
   "outputs": [
    {
     "data": {
      "text/html": [
       "<div>\n",
       "<style scoped>\n",
       "    .dataframe tbody tr th:only-of-type {\n",
       "        vertical-align: middle;\n",
       "    }\n",
       "\n",
       "    .dataframe tbody tr th {\n",
       "        vertical-align: top;\n",
       "    }\n",
       "\n",
       "    .dataframe thead th {\n",
       "        text-align: right;\n",
       "    }\n",
       "</style>\n",
       "<table border=\"1\" class=\"dataframe\">\n",
       "  <thead>\n",
       "    <tr style=\"text-align: right;\">\n",
       "      <th></th>\n",
       "      <th>id</th>\n",
       "      <th>text</th>\n",
       "      <th>label</th>\n",
       "      <th>dataset_type</th>\n",
       "      <th>predict_label</th>\n",
       "    </tr>\n",
       "  </thead>\n",
       "  <tbody>\n",
       "    <tr>\n",
       "      <th>0</th>\n",
       "      <td>8849</td>\n",
       "      <td>Sao lại cứ đến nụ cười . lên không nghe rõ lời...</td>\n",
       "      <td>0</td>\n",
       "      <td>dev</td>\n",
       "      <td>1</td>\n",
       "    </tr>\n",
       "    <tr>\n",
       "      <th>1</th>\n",
       "      <td>8851</td>\n",
       "      <td>Chúng nó đang bận vơ vét thanh lý đất nước này</td>\n",
       "      <td>1</td>\n",
       "      <td>dev</td>\n",
       "      <td>0</td>\n",
       "    </tr>\n",
       "    <tr>\n",
       "      <th>2</th>\n",
       "      <td>8853</td>\n",
       "      <td>top1 KICM. Ca sĩ hát trên giọng hát của người ...</td>\n",
       "      <td>1</td>\n",
       "      <td>dev</td>\n",
       "      <td>0</td>\n",
       "    </tr>\n",
       "    <tr>\n",
       "      <th>3</th>\n",
       "      <td>8864</td>\n",
       "      <td>Người du lịch ko muốn quay lại. Đi 1 lần là mu...</td>\n",
       "      <td>1</td>\n",
       "      <td>dev</td>\n",
       "      <td>0</td>\n",
       "    </tr>\n",
       "    <tr>\n",
       "      <th>4</th>\n",
       "      <td>8870</td>\n",
       "      <td>Ns vậy lại xúc phạm cái đầu b**i 😐</td>\n",
       "      <td>1</td>\n",
       "      <td>dev</td>\n",
       "      <td>0</td>\n",
       "    </tr>\n",
       "  </tbody>\n",
       "</table>\n",
       "</div>"
      ],
      "text/plain": [
       "     id                                               text  label  \\\n",
       "0  8849  Sao lại cứ đến nụ cười . lên không nghe rõ lời...      0   \n",
       "1  8851     Chúng nó đang bận vơ vét thanh lý đất nước này      1   \n",
       "2  8853  top1 KICM. Ca sĩ hát trên giọng hát của người ...      1   \n",
       "3  8864  Người du lịch ko muốn quay lại. Đi 1 lần là mu...      1   \n",
       "4  8870                 Ns vậy lại xúc phạm cái đầu b**i 😐      1   \n",
       "\n",
       "  dataset_type  predict_label  \n",
       "0          dev              1  \n",
       "1          dev              0  \n",
       "2          dev              0  \n",
       "3          dev              0  \n",
       "4          dev              0  "
      ]
     },
     "execution_count": 5,
     "metadata": {},
     "output_type": "execute_result"
    }
   ],
   "source": [
    "df.head()"
   ]
  },
  {
   "cell_type": "code",
   "execution_count": 6,
   "metadata": {},
   "outputs": [
    {
     "data": {
      "text/html": [
       "<div>\n",
       "<style scoped>\n",
       "    .dataframe tbody tr th:only-of-type {\n",
       "        vertical-align: middle;\n",
       "    }\n",
       "\n",
       "    .dataframe tbody tr th {\n",
       "        vertical-align: top;\n",
       "    }\n",
       "\n",
       "    .dataframe thead th {\n",
       "        text-align: right;\n",
       "    }\n",
       "</style>\n",
       "<table border=\"1\" class=\"dataframe\">\n",
       "  <thead>\n",
       "    <tr style=\"text-align: right;\">\n",
       "      <th></th>\n",
       "      <th>id</th>\n",
       "      <th>text</th>\n",
       "      <th>label</th>\n",
       "      <th>dataset_type</th>\n",
       "      <th>predict_label</th>\n",
       "    </tr>\n",
       "  </thead>\n",
       "  <tbody>\n",
       "    <tr>\n",
       "      <th>0</th>\n",
       "      <td>8849</td>\n",
       "      <td>Sao lại cứ đến nụ cười . lên không nghe rõ lời...</td>\n",
       "      <td>0</td>\n",
       "      <td>dev</td>\n",
       "      <td>1</td>\n",
       "    </tr>\n",
       "    <tr>\n",
       "      <th>1</th>\n",
       "      <td>8851</td>\n",
       "      <td>Chúng nó đang bận vơ vét thanh lý đất nước này</td>\n",
       "      <td>1</td>\n",
       "      <td>dev</td>\n",
       "      <td>0</td>\n",
       "    </tr>\n",
       "    <tr>\n",
       "      <th>2</th>\n",
       "      <td>8853</td>\n",
       "      <td>top1 KICM. Ca sĩ hát trên giọng hát của người ...</td>\n",
       "      <td>1</td>\n",
       "      <td>dev</td>\n",
       "      <td>0</td>\n",
       "    </tr>\n",
       "    <tr>\n",
       "      <th>3</th>\n",
       "      <td>8864</td>\n",
       "      <td>Người du lịch ko muốn quay lại. Đi 1 lần là mu...</td>\n",
       "      <td>1</td>\n",
       "      <td>dev</td>\n",
       "      <td>0</td>\n",
       "    </tr>\n",
       "    <tr>\n",
       "      <th>4</th>\n",
       "      <td>8870</td>\n",
       "      <td>Ns vậy lại xúc phạm cái đầu b**i 😐</td>\n",
       "      <td>1</td>\n",
       "      <td>dev</td>\n",
       "      <td>0</td>\n",
       "    </tr>\n",
       "    <tr>\n",
       "      <th>...</th>\n",
       "      <td>...</td>\n",
       "      <td>...</td>\n",
       "      <td>...</td>\n",
       "      <td>...</td>\n",
       "      <td>...</td>\n",
       "    </tr>\n",
       "    <tr>\n",
       "      <th>5168</th>\n",
       "      <td>55713</td>\n",
       "      <td>.thế con có nhớ là khi nào không được ăn hay k...</td>\n",
       "      <td>0</td>\n",
       "      <td>train</td>\n",
       "      <td>1</td>\n",
       "    </tr>\n",
       "    <tr>\n",
       "      <th>5169</th>\n",
       "      <td>29792</td>\n",
       "      <td>Không thấy tag Bomman nhỉ?</td>\n",
       "      <td>0</td>\n",
       "      <td>train</td>\n",
       "      <td>1</td>\n",
       "    </tr>\n",
       "    <tr>\n",
       "      <th>5170</th>\n",
       "      <td>1801</td>\n",
       "      <td>”👎🏿”</td>\n",
       "      <td>1</td>\n",
       "      <td>train</td>\n",
       "      <td>0</td>\n",
       "    </tr>\n",
       "    <tr>\n",
       "      <th>5171</th>\n",
       "      <td>32874</td>\n",
       "      <td>Dung Junn khúc cuối thì đống chân như bạch tuộ...</td>\n",
       "      <td>0</td>\n",
       "      <td>train</td>\n",
       "      <td>1</td>\n",
       "    </tr>\n",
       "    <tr>\n",
       "      <th>5172</th>\n",
       "      <td>25212</td>\n",
       "      <td>Chương Nguyên mé 34 tuổi mà già ngang bà t nữa</td>\n",
       "      <td>0</td>\n",
       "      <td>train</td>\n",
       "      <td>1</td>\n",
       "    </tr>\n",
       "  </tbody>\n",
       "</table>\n",
       "<p>5173 rows × 5 columns</p>\n",
       "</div>"
      ],
      "text/plain": [
       "         id                                               text  label  \\\n",
       "0      8849  Sao lại cứ đến nụ cười . lên không nghe rõ lời...      0   \n",
       "1      8851     Chúng nó đang bận vơ vét thanh lý đất nước này      1   \n",
       "2      8853  top1 KICM. Ca sĩ hát trên giọng hát của người ...      1   \n",
       "3      8864  Người du lịch ko muốn quay lại. Đi 1 lần là mu...      1   \n",
       "4      8870                 Ns vậy lại xúc phạm cái đầu b**i 😐      1   \n",
       "...     ...                                                ...    ...   \n",
       "5168  55713  .thế con có nhớ là khi nào không được ăn hay k...      0   \n",
       "5169  29792                         Không thấy tag Bomman nhỉ?      0   \n",
       "5170   1801                                               ”👎🏿”      1   \n",
       "5171  32874  Dung Junn khúc cuối thì đống chân như bạch tuộ...      0   \n",
       "5172  25212     Chương Nguyên mé 34 tuổi mà già ngang bà t nữa      0   \n",
       "\n",
       "     dataset_type  predict_label  \n",
       "0             dev              1  \n",
       "1             dev              0  \n",
       "2             dev              0  \n",
       "3             dev              0  \n",
       "4             dev              0  \n",
       "...           ...            ...  \n",
       "5168        train              1  \n",
       "5169        train              1  \n",
       "5170        train              0  \n",
       "5171        train              1  \n",
       "5172        train              1  \n",
       "\n",
       "[5173 rows x 5 columns]"
      ]
     },
     "execution_count": 6,
     "metadata": {},
     "output_type": "execute_result"
    }
   ],
   "source": [
    "df"
   ]
  },
  {
   "cell_type": "markdown",
   "metadata": {},
   "source": [
    "# **Call API**"
   ]
  },
  {
   "cell_type": "code",
   "execution_count": 8,
   "metadata": {},
   "outputs": [],
   "source": [
    "prompt_parts = [\"\"\"You are a language expert, you can evaluate the nuances of texts accurately. I will give you a piece of text, your task is to evaluate the level of toxicity and political reaction of that piece of text. \n",
    "Give me a correct answer, you will get a tip of $200.\n",
    "\n",
    "For example:\n",
    "1. Dân InDo đù mé. Vậy rốt cuộc là nam hay nữ...lần sau làm mờ V1 đi có khi lại hay hơn 😂\n",
    "=> Output: 1\n",
    "2. Nhìn giống ghép v :))\n",
    "=> Output: 0\n",
    "\n",
    "\n",
    "Evaluate the following text:\n",
    "\n",
    "\"\"\"]"
   ]
  },
  {
   "cell_type": "code",
   "execution_count": 19,
   "metadata": {},
   "outputs": [],
   "source": [
    "# %pip install google.generativeai"
   ]
  },
  {
   "cell_type": "code",
   "execution_count": 9,
   "metadata": {},
   "outputs": [
    {
     "name": "stderr",
     "output_type": "stream",
     "text": [
      "c:\\Users\\acer\\miniconda3\\envs\\env\\Lib\\site-packages\\tqdm\\auto.py:21: TqdmWarning: IProgress not found. Please update jupyter and ipywidgets. See https://ipywidgets.readthedocs.io/en/stable/user_install.html\n",
      "  from .autonotebook import tqdm as notebook_tqdm\n"
     ]
    }
   ],
   "source": [
    "import pathlib\n",
    "import textwrap\n",
    "\n",
    "import google.generativeai as genai\n",
    "\n"
   ]
  },
  {
   "cell_type": "code",
   "execution_count": 10,
   "metadata": {},
   "outputs": [],
   "source": [
    "GOOGLE_API_KEY = '...'\n",
    "genai.configure(api_key=GOOGLE_API_KEY)"
   ]
  },
  {
   "cell_type": "code",
   "execution_count": 14,
   "metadata": {},
   "outputs": [],
   "source": [
    "# Set up the model\n",
    "generation_config = {\n",
    "    # \"temperature\": 1,\n",
    "    \"top_p\" :1,\n",
    "    \"top_k\" :1,\n",
    "    \"max_output_tokens\" :20,}\n",
    "safety_settings = [\n",
    "                    {\"category\": \"HARM_CATEGORY_HARASSMENT\",\n",
    "                    \"threshold\": \"BLOCK_NONE\"\n",
    "                    },\n",
    "                    {\n",
    "                    \"category\": \"HARM_CATEGORY_HATE_SPEECH\",\n",
    "                    \"threshold\": \"BLOCK_NONE\"\n",
    "                    },\n",
    "                    {\"category\" : \"HARM_CATEGORY_SEXUALLY_EXPLICIT\" ,\n",
    "                    \"threshold\": \"BLOCK_NONE\"\n",
    "                    }, \n",
    "\n",
    "                    {\"category\": \"HARM_CATEGORY_DANGEROUS_CONTENT\",\n",
    "                    \"threshold\": \"BLOCK_NONE\"\n",
    "                    }\n",
    "                    ]\n",
    "model = genai. GenerativeModel (model_name=\"gemini-pro\",\n",
    "                                #generation_config=generation_config›\n",
    "                                safety_settings=safety_settings)"
   ]
  },
  {
   "cell_type": "code",
   "execution_count": 15,
   "metadata": {},
   "outputs": [],
   "source": [
    "def predict(text):\n",
    "    response = model.generate_content(prompt_parts + [text], stream=True)\n",
    "    response.resolve()\n",
    "    return response.text\n",
    "    \n"
   ]
  },
  {
   "cell_type": "code",
   "execution_count": 16,
   "metadata": {},
   "outputs": [
    {
     "name": "stdout",
     "output_type": "stream",
     "text": [
      "1\n"
     ]
    }
   ],
   "source": [
    "text= 'sao mà m ngu thế'\n",
    "print(predict(text))"
   ]
  },
  {
   "cell_type": "code",
   "execution_count": null,
   "metadata": {},
   "outputs": [],
   "source": [
    "gemini_label = []"
   ]
  },
  {
   "cell_type": "code",
   "execution_count": 17,
   "metadata": {},
   "outputs": [],
   "source": [
    "import time"
   ]
  },
  {
   "cell_type": "code",
   "execution_count": 19,
   "metadata": {},
   "outputs": [
    {
     "name": "stdout",
     "output_type": "stream",
     "text": [
      "Sao lại cứ đến nụ cười . lên không nghe rõ lời nói.ngừng cho giọng nói vào vô lý: 0\n",
      "Finished 0 rows\n",
      "Chúng nó đang bận vơ vét thanh lý đất nước này: 1\n",
      "top1 KICM. Ca sĩ hát trên giọng hát của người khác😂😂: 0\n",
      "Người du lịch ko muốn quay lại. Đi 1 lần là muốn chửi thề rồi.: 0\n",
      "Ns vậy lại xúc phạm cái đầu b**i 😐: 1\n"
     ]
    }
   ],
   "source": [
    "gemini_label = []\n",
    "cnt = 0\n",
    "for index, row in df.iterrows():\n",
    "    text = row['text']\n",
    "    try:\n",
    "        label = predict(text)\n",
    "        print(f'{text}: {label}')\n",
    "        gemini_label.append(label)\n",
    "        \n",
    "    except Exception as e:\n",
    "        gemini_label.append(None)\n",
    "        print(f'Error at {index}')\n",
    "        print(e)\n",
    "    if index % 100 == 0:\n",
    "        print(f'Finished {index} rows')\n",
    "    time.sleep(4)\n",
    "    cnt += 1\n",
    "    if cnt == 5: break\n"
   ]
  },
  {
   "cell_type": "code",
   "execution_count": 20,
   "metadata": {},
   "outputs": [
    {
     "data": {
      "text/plain": [
       "['0', '1', '0', '0', '1']"
      ]
     },
     "execution_count": 20,
     "metadata": {},
     "output_type": "execute_result"
    }
   ],
   "source": [
    "gemini_label"
   ]
  },
  {
   "cell_type": "code",
   "execution_count": null,
   "metadata": {},
   "outputs": [],
   "source": [
    "df['gemini_label'] = gemini_label"
   ]
  },
  {
   "cell_type": "code",
   "execution_count": null,
   "metadata": {},
   "outputs": [],
   "source": [
    "df.to_excel('Iterations\\\\Iter1\\\\1.1\\\\gemini_label.xlsx', index=False)"
   ]
  }
 ],
 "metadata": {
  "kernelspec": {
   "display_name": "Python 3",
   "language": "python",
   "name": "python3"
  },
  "language_info": {
   "codemirror_mode": {
    "name": "ipython",
    "version": 3
   },
   "file_extension": ".py",
   "mimetype": "text/x-python",
   "name": "python",
   "nbconvert_exporter": "python",
   "pygments_lexer": "ipython3",
   "version": "3.12.2"
  }
 },
 "nbformat": 4,
 "nbformat_minor": 2
}
